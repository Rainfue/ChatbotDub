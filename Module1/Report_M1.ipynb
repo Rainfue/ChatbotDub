{
 "cells": [
  {
   "cell_type": "markdown",
   "metadata": {},
   "source": [
    "# **Модуль А:** Анализ и предобработка данных"
   ]
  },
  {
   "cell_type": "markdown",
   "metadata": {},
   "source": [
    "**Краткое описание задания:** в рамках данного модуля участникам необходимо подготовить набор данных для обучения дублирующей нейронной сети, а также ознакомится с предоставленными организаторами API."
   ]
  },
  {
   "cell_type": "markdown",
   "metadata": {},
   "source": [
    "## Импортирование библиотек"
   ]
  },
  {
   "cell_type": "code",
   "execution_count": 6,
   "metadata": {},
   "outputs": [],
   "source": [
    "# библиотека\n",
    "import json\n",
    "import time\n",
    "\n",
    "import requests\n",
    "import base64\n",
    "\n",
    "import matplotlib.pyplot as plt\n",
    "from io import BytesIO\n",
    "from PIL import Image\n",
    "\n",
    "from sklearn.model_selection import train_test_split\n",
    "\n",
    "from config import API_KEY, API_SECRET\n",
    "\n",
    "from transformers import AutoTokenizer, AutoModelForSequenceClassification"
   ]
  },
  {
   "cell_type": "markdown",
   "metadata": {},
   "source": [
    "Для того чтобы скачать сертификат, используется следующая команда:\n",
    "\n",
    "```bash\n",
    "curl -k \"https://gu-st.ru/content/Other/doc/russian_trusted_root_ca.cer\" > russian_ca.cer\n",
    "```"
   ]
  },
  {
   "cell_type": "code",
   "execution_count": 18,
   "metadata": {},
   "outputs": [
    {
     "name": "stdout",
     "output_type": "stream",
     "text": [
      "Сертификат успешно добавлен в: d:\\Helper\\MLBazyak\\chemp\\.venv\\Lib\\site-packages\\certifi\\cacert.pem\n"
     ]
    },
    {
     "data": {
      "text/plain": [
       "'d:\\\\Helper\\\\MLBazyak\\\\chemp\\\\.venv\\\\Lib\\\\site-packages\\\\certifi\\\\cacert.pem'"
      ]
     },
     "execution_count": 18,
     "metadata": {},
     "output_type": "execute_result"
    }
   ],
   "source": [
    "import os\n",
    "import ssl\n",
    "import urllib.request\n",
    "from certifi import where as certifi_where\n",
    "\n",
    "def add_trusted_certificate(cert_url, cert_filename=None):\n",
    "    \"\"\"\n",
    "    Загружает и добавляет SSL-сертификат в доверенные сертификаты Python\n",
    "    \n",
    "    :param cert_url: URL сертификата\n",
    "    :param cert_filename: Имя файла для сохранения (опционально)\n",
    "    :return: Путь к файлу с сертификатами\n",
    "    \"\"\"\n",
    "    # Определяем путь к файлу сертификатов Python\n",
    "    certifi_path = certifi_where()\n",
    "    \n",
    "    # Если имя файла не указано, используем временное\n",
    "    if cert_filename is None:\n",
    "        cert_filename = \"downloaded_certificate.cer\"\n",
    "    \n",
    "    try:\n",
    "        # Скачиваем сертификат (с отключенной проверкой SSL)\n",
    "        context = ssl._create_unverified_context()\n",
    "        with urllib.request.urlopen(cert_url, context=context) as response:\n",
    "            cert_data = response.read()\n",
    "        \n",
    "        # Сохраняем сертификат в файл\n",
    "        with open(cert_filename, 'wb') as cert_file:\n",
    "            cert_file.write(cert_data)\n",
    "        \n",
    "        # Добавляем сертификат в доверенные\n",
    "        with open(certifi_path, 'ab') as trusted_certs:\n",
    "            trusted_certs.write(b\"\\n\")  # Добавляем пустую строку перед новым сертификатом\n",
    "            trusted_certs.write(cert_data)\n",
    "        \n",
    "        print(f\"Сертификат успешно добавлен в: {certifi_path}\")\n",
    "        return certifi_path\n",
    "    \n",
    "    except Exception as e:\n",
    "        print(f\"Ошибка при добавлении сертификата: {str(e)}\")\n",
    "        return None\n",
    "\n",
    "# Пример использования:\n",
    "\n",
    "cert_url = \"https://gu-st.ru/content/Other/doc/russian_trusted_root_ca.cer\"\n",
    "add_trusted_certificate(cert_url, \"russian_ca.cer\")"
   ]
  },
  {
   "cell_type": "code",
   "execution_count": 1,
   "metadata": {},
   "outputs": [],
   "source": [
    "from transformers import pipeline"
   ]
  },
  {
   "cell_type": "code",
   "execution_count": null,
   "metadata": {},
   "outputs": [],
   "source": [
    "\n",
    "classifier = pipeline(\"zero-shot-classification\",\n",
    "                      model=\"symanto/xlm-roberta-base-snli-mnli-anli-xnli\")\n"
   ]
  },
  {
   "cell_type": "code",
   "execution_count": 24,
   "metadata": {},
   "outputs": [
    {
     "name": "stdout",
     "output_type": "stream",
     "text": [
      "['базовое']\n",
      "43\n",
      "30\n"
     ]
    }
   ],
   "source": [
    "with open(\"internet_qa.json\", encoding='utf-8') as f:\n",
    "    data = json.load(f)\n",
    "    print(data[0]['tags'])\n",
    "    tags = list(set([item[\"tags\"][0] for item in data]))\n",
    "\n",
    "print(len(data))\n",
    "\n",
    "print(len(tags))"
   ]
  },
  {
   "cell_type": "code",
   "execution_count": null,
   "metadata": {},
   "outputs": [
    {
     "name": "stdout",
     "output_type": "stream",
     "text": [
      "3\n",
      "0\n",
      "{'question': 'Почему не работает интернет?', 'answer': 'Проверьте: 1) Подключение кабеля к роутеру 2) Индикаторы на роутере 3) Наличие баланса у провайдера', 'tags': ['базовое']}\n"
     ]
    },
    {
     "ename": "KeyError",
     "evalue": "1",
     "output_type": "error",
     "traceback": [
      "\u001b[1;31m---------------------------------------------------------------------------\u001b[0m",
      "\u001b[1;31mKeyError\u001b[0m                                  Traceback (most recent call last)",
      "Cell \u001b[1;32mIn[33], line 7\u001b[0m\n\u001b[0;32m      5\u001b[0m         \u001b[38;5;28mprint\u001b[39m(i)\n\u001b[0;32m      6\u001b[0m         \u001b[38;5;28mprint\u001b[39m(item)\n\u001b[1;32m----> 7\u001b[0m         \u001b[38;5;28mprint\u001b[39m(\u001b[43mitem\u001b[49m\u001b[43m[\u001b[49m\u001b[43mi\u001b[49m\u001b[38;5;241;43m+\u001b[39;49m\u001b[38;5;241;43m1\u001b[39;49m\u001b[43m]\u001b[49m)\n\u001b[0;32m      8\u001b[0m         \u001b[38;5;66;03m# tags.append(item[i]) \u001b[39;00m\n\u001b[0;32m     10\u001b[0m tags \u001b[38;5;241m=\u001b[39m \u001b[38;5;28mlist\u001b[39m(\u001b[38;5;28mset\u001b[39m(tags))\n",
      "\u001b[1;31mKeyError\u001b[0m: 1"
     ]
    }
   ],
   "source": [
    "tags = []\n",
    "for item in data:\n",
    "    print(len(item))\n",
    "    for i in range(len(item)):\n",
    "        print(i)\n",
    "        print(item)\n",
    "        print(item[i+1])\n",
    "        # tags.append(item[i]) \n",
    "\n",
    "tags = list(set(tags))\n",
    "print(len(tags))"
   ]
  },
  {
   "cell_type": "code",
   "execution_count": 25,
   "metadata": {},
   "outputs": [
    {
     "name": "stderr",
     "output_type": "stream",
     "text": [
      "Some weights of BertForSequenceClassification were not initialized from the model checkpoint at cointegrated/rubert-tiny2 and are newly initialized: ['classifier.bias', 'classifier.weight']\n",
      "You should probably TRAIN this model on a down-stream task to be able to use it for predictions and inference.\n"
     ]
    },
    {
     "name": "stdout",
     "output_type": "stream",
     "text": [
      "Модель загружена для 30 категорий: ['lan', 'vpn', 'dns', 'ремонт', 'стабильность', 'диагностика', 'роутер', 'windows', 'wi-fi', 'аутентификация', 'гроза', 'браузер', 'подключение', 'базовое', 'оптимизация', 'voip', 'телефон', 'покрытие', 'ошибка', 'перебои', 'срочное', 'скорость', 'настройка', 'аппаратное', 'мобильное', 'переезд', 'безопасность', 'провайдер', 'dhcp', 'ethernet']\n"
     ]
    }
   ],
   "source": [
    "# 2. Загружаем модель\n",
    "model_name = \"cointegrated/rubert-tiny2\"\n",
    "tokenizer = AutoTokenizer.from_pretrained(model_name)\n",
    "model = AutoModelForSequenceClassification.from_pretrained(\n",
    "    model_name,\n",
    "    num_labels=len(tags),\n",
    "    problem_type=\"single_label_classification\"  # Для мультиклассовой классификации\n",
    ")\n",
    "\n",
    "print(f\"Модель загружена для {len(tags)} категорий: {tags}\")"
   ]
  }
 ],
 "metadata": {
  "kernelspec": {
   "display_name": ".venv",
   "language": "python",
   "name": "python3"
  },
  "language_info": {
   "codemirror_mode": {
    "name": "ipython",
    "version": 3
   },
   "file_extension": ".py",
   "mimetype": "text/x-python",
   "name": "python",
   "nbconvert_exporter": "python",
   "pygments_lexer": "ipython3",
   "version": "3.11.9"
  }
 },
 "nbformat": 4,
 "nbformat_minor": 2
}
